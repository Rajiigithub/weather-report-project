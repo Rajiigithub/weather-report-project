{
  "nbformat": 4,
  "nbformat_minor": 0,
  "metadata": {
    "colab": {
      "name": "rajeshwari s cubersecurity bootcamp project",
      "provenance": [],
      "collapsed_sections": [],
      "include_colab_link": true
    },
    "kernelspec": {
      "display_name": "Python 3",
      "name": "python3"
    }
  },
  "cells": [
    {
      "cell_type": "markdown",
      "metadata": {
        "id": "view-in-github",
        "colab_type": "text"
      },
      "source": [
        "<a href=\"https://colab.research.google.com/github/Rajiigithub/weather-report-project/blob/main/rajeshwari_s_cubersecurity_bootcamp_project.ipynb\" target=\"_parent\"><img src=\"https://colab.research.google.com/assets/colab-badge.svg\" alt=\"Open In Colab\"/></a>"
      ]
    },
    {
      "cell_type": "code",
      "metadata": {
        "colab": {
          "base_uri": "https://localhost:8080/"
        },
        "id": "SoirEPFQD9FC",
        "outputId": "31eeef9b-afc8-4894-b730-d28981fb7f77"
      },
      "source": [
        "import requests\n",
        "\n",
        "#import os\n",
        "from datetime import datetime\n",
        "\n",
        "api_key = '05796202f71bf47a929b845f68b2d482'\n",
        "location = input(\"Enter the city name: \")\n",
        "\n",
        "complete_api_link = \"https://api.openweathermap.org/data/2.5/weather?q=\"+location+\"&appid=\"+api_key\n",
        "api_link = requests.get(complete_api_link)\n",
        "api_data = api_link.json()\n",
        "\n",
        "#create variables to store and display data\n",
        "temp_city = ((api_data['main']['temp']) - 273.15)\n",
        "weather_desc = api_data['weather'][0]['description']\n",
        "hmdt = api_data['main']['humidity']\n",
        "wind_spd = api_data['wind']['speed']\n",
        "date_time = datetime.now().strftime(\"%d %b %Y | %I:%M:%S %p\")\n",
        "\n",
        "\n",
        "print (\"-------------------------------------------------------------\")\n",
        "print (\"Weather Stats for - {}  || {}\".format(location.upper(), date_time))\n",
        "print (\"-------------------------------------------------------------\")\n",
        "print (\"Current temperature is: {:.2f} deg C\".format(temp_city))\n",
        "print (\"Current weather desc  :\",weather_desc)\n",
        "print (\"Current Humidity      :\",hmdt, '%')\n",
        "print (\"Current wind speed    :\",wind_spd ,'kmph')\n",
        "\n",
        "\n",
        "#creating the text file\n",
        "report=open('weather_report.txt','w+')#fh is File handler variable\n",
        "\n",
        "report.write(\"Weather Stats for - {}  || {}\".format(location.upper(), date_time))\n",
        "report.write(\"\\n-------------------------------------------------------------\")\n",
        "report.write(\"\\nCurrent temperature is: {:.2f} deg C\".format(temp_city))\n",
        "report.write(\"\\nCurrent weather desc  : {}\".format(weather_desc))\n",
        "report.write(\"\\nCurrent Humidity      : {} %\".format(hmdt))\n",
        "report.write(\"\\nCurrent wind speed    : {}kmph\".format(wind_spd))\n",
        "\n",
        "report.close()\n"
      ],
      "execution_count": 1,
      "outputs": [
        {
          "output_type": "stream",
          "text": [
            "Enter the city name: bangalore\n",
            "-------------------------------------------------------------\n",
            "Weather Stats for - BANGALORE  || 22 Jun 2021 | 07:11:01 AM\n",
            "-------------------------------------------------------------\n",
            "Current temperature is: 27.86 deg C\n",
            "Current weather desc  : broken clouds\n",
            "Current Humidity      : 54 %\n",
            "Current wind speed    : 3.6 kmph\n"
          ],
          "name": "stdout"
        }
      ]
    }
  ]
}